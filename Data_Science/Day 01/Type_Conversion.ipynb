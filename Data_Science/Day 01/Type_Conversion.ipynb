{
 "cells": [
  {
   "cell_type": "markdown",
   "metadata": {},
   "source": [
    "# Python Data Type Conversion\n",
    "\n",
    "\n",
    "## Type Conversion\n",
    "\n",
    "Type conversion refers to the process of converting a value from one data type to another. Python provides several built-in functions for type conversion:\n",
    "\n",
    "- `int()`: Converts a value to an integer\n",
    "- `float()`: Converts a value to a floating-point number\n",
    "- `str()`: Converts a value to a string\n",
    "- `list()`: Converts a value to a list\n",
    "- `tuple()`: Converts a value to a tuple\n",
    "- `set()`: Converts a value to a set\n",
    "- `dict()`: Converts a value to a dictionary\n",
    "\n",
    "### Example Use Case\n",
    "\n",
    "Let's consider an example where we need to process user input, which is typically in string format, and convert it to appropriate data types for further processing.\n",
    "\n",
    "```python\n",
    "# User input (string)\n",
    "user_input = \"42\"\n",
    "\n",
    "# Convert to integer\n",
    "user_age = int(user_input)\n",
    "\n",
    "# Check if the user is an adult\n",
    "is_adult = user_age >= 18\n",
    "\n",
    "print(f\"User age: {user_age}\")\n",
    "print(f\"Is adult: {is_adult}\")\n",
    "```\n",
    "\n",
    "In this example, we take a user input as a string, convert it to an integer using `int()`, and then use it in a comparison to determine if the user is an adult. This demonstrates how type conversion is essential for handling and processing data in Python."
   ]
  },
  {
   "cell_type": "code",
   "execution_count": null,
   "metadata": {},
   "outputs": [],
   "source": [
    "intiger_Data = 10\n",
    "convert_intiger = float(intiger_Data)\n",
    "float_Data = 710.5\n",
    "convert_float = int(float_Data)\n",
    "string_Data = \"Hello World\"\n",
    "print(f\"Intiger Data : {intiger_Data}\") \n",
    "print(f\"Float Data : {float_Data}\")\n",
    "print(string_Data)\n",
    "print(convert_intiger)\n",
    "print(convert_float)"
   ]
  },
  {
   "cell_type": "markdown",
   "metadata": {},
   "source": [
    "**Intiger To String Conv**"
   ]
  },
  {
   "cell_type": "code",
   "execution_count": null,
   "metadata": {},
   "outputs": [],
   "source": [
    "intiger_Data = 10\n",
    "convert_intiger_to_string = str(intiger_Data)\n",
    "print(f\"Data Type : {type(convert_intiger_to_string)} Data : {convert_intiger_to_string}\")\n",
    "\n"
   ]
  },
  {
   "cell_type": "markdown",
   "metadata": {},
   "source": [
    "**Tuple to Dict**"
   ]
  },
  {
   "cell_type": "code",
   "execution_count": 37,
   "metadata": {},
   "outputs": [
    {
     "name": "stdout",
     "output_type": "stream",
     "text": [
      "Data Type : <class 'dict'> Data : {1: 2, 3: 4, 5: 5, 6: 3245, 34: 34, 3434: 345234, 867867: 3479834943479}\n",
      "3245\n"
     ]
    }
   ],
   "source": [
    "tupple_Date = (1, 2, 3, 4, 5, 5, 6, 3245, 34, 34, 3434, 345234, 867867, 3479834943479)\n",
    "convert_tupple_to_dict = dict(zip(tupple_Date[::2], tupple_Date[1::2]))\n",
    "print(f\"Data Type : {type(convert_tupple_to_dict)} Data : {convert_tupple_to_dict}\")\n",
    "print(convert_tupple_to_dict.get(6))"
   ]
  }
 ],
 "metadata": {
  "kernelspec": {
   "display_name": "venv",
   "language": "python",
   "name": "python3"
  },
  "language_info": {
   "codemirror_mode": {
    "name": "ipython",
    "version": 3
   },
   "file_extension": ".py",
   "mimetype": "text/x-python",
   "name": "python",
   "nbconvert_exporter": "python",
   "pygments_lexer": "ipython3",
   "version": "3.13.1"
  }
 },
 "nbformat": 4,
 "nbformat_minor": 2
}

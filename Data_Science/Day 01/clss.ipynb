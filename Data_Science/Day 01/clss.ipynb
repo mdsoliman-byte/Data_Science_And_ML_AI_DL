{
 "cells": [
  {
   "cell_type": "markdown",
   "metadata": {},
   "source": [
    "### Volume of a Sphere\n",
    "The formula for the volume of a sphere is: V = (3/4)*pi*r***3\n"
   ]
  },
  {
   "cell_type": "code",
   "execution_count": null,
   "metadata": {},
   "outputs": [],
   "source": [
    "firstName = \"MD\"\n",
    "lastName = \"Soliman\"\n",
    "full_Name = firstName +\" \"+ lastName\n",
    "print(full_Name)"
   ]
  },
  {
   "cell_type": "markdown",
   "metadata": {},
   "source": [
    "### Calclute the Cylinder Volume\n"
   ]
  },
  {
   "cell_type": "code",
   "execution_count": null,
   "metadata": {},
   "outputs": [],
   "source": [
    "pi = 3.1416\n",
    "r = float(input(\"Enter Your Radius : \"))\n",
    "h = float(input(\"Enter Your Height : \"))\n",
    "volume = pi *(r**2)*h\n",
    "print(\"Volume of cylinder is : \", volume)"
   ]
  },
  {
   "cell_type": "code",
   "execution_count": null,
   "metadata": {},
   "outputs": [],
   "source": [
    "first_name = \"Arafat Hosen\"\n",
    "last_name= \"Sunny\"\n",
    "fullName = \"Your Full Name is {} {} {}\".format(last_name ,first_name,  'Hello')\n",
    "print(fullName)"
   ]
  },
  {
   "cell_type": "code",
   "execution_count": 22,
   "metadata": {},
   "outputs": [
    {
     "name": "stdout",
     "output_type": "stream",
     "text": [
      "M d S o l i m a n "
     ]
    }
   ],
   "source": [
    "my_full_name = \"MdSoliman Hosen Shakil\"\n",
    "for i in my_full_name:\n",
    "    if i == \" \":\n",
    "        break \n",
    "    print(i, end = \" \")"
   ]
  }
 ],
 "metadata": {
  "kernelspec": {
   "display_name": "venv",
   "language": "python",
   "name": "python3"
  },
  "language_info": {
   "codemirror_mode": {
    "name": "ipython",
    "version": 3
   },
   "file_extension": ".py",
   "mimetype": "text/x-python",
   "name": "python",
   "nbconvert_exporter": "python",
   "pygments_lexer": "ipython3",
   "version": "3.13.1"
  }
 },
 "nbformat": 4,
 "nbformat_minor": 2
}

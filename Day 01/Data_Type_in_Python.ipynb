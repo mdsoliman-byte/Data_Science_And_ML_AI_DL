{
 "cells": [
  {
   "cell_type": "markdown",
   "metadata": {},
   "source": [
    "# Python Data Types\n",
    "\n",
    "Python is a dynamically typed language, which means that you don't need to declare the type of a variable when you create one. Here are some common data types in Python along with real use cases:\n",
    "\n",
    "- **Integer (`int`)**\n",
    "    - Use Case: Storing whole numbers.\n",
    "    - Example: `integer = 400`\n",
    "    - Explanation: In this example, `integer` is a variable of type `int` with a value of 400. Integers are used when you need to perform arithmetic operations or count items.\n",
    "\n",
    "- **Float (`float`)**\n",
    "    - Use Case: Storing decimal numbers.\n",
    "    - Example: `price = 19.99`\n",
    "    - Explanation: `price` is a variable of type `float` with a value of 19.99. Floats are used when you need more precision than integers, such as for financial calculations.\n",
    "\n",
    "- **String (`str`)**\n",
    "    - Use Case: Storing text.\n",
    "    - Example: `name = \"Alice\"`\n",
    "    - Explanation: `name` is a variable of type `str` with a value of \"Alice\". Strings are used for text manipulation and storage.\n",
    "\n",
    "- **Boolean (`bool`)**\n",
    "    - Use Case: Storing `True` or `False` values.\n",
    "    - Example: `is_active = True`\n",
    "    - Explanation: `is_active` is a variable of type `bool` with a value of `True`. Booleans are used for conditional statements and logical operations.\n",
    "\n",
    "- **List (`list`)**\n",
    "    - Use Case: Storing a collection of items.\n",
    "    - Example: `numbers = [1, 2, 3, 4, 5]`\n",
    "    - Explanation: `numbers` is a variable of type `list` containing integers. Lists are used to store multiple items in a single variable and can be modified.\n",
    "\n",
    "- **Dictionary (`dict`)**\n",
    "    - Use Case: Storing key-value pairs.\n",
    "    - Example: `person = {\"name\": \"Alice\", \"age\": 25}`\n",
    "    - Explanation: `person` is a variable of type `dict` with keys \"name\" and \"age\". Dictionaries are used to store data values in key-value pairs.\n",
    "\n",
    "- **Tuple (`tuple`)**\n",
    "    - Use Case: Storing a collection of items that should not be modified.\n",
    "    - Example: `coordinates = (10.0, 20.0)`\n",
    "    - Explanation: `coordinates` is a variable of type `tuple` containing two float values. Tuples are used to store multiple items in a single variable and are immutable.\n",
    "\n",
    "- **Set (`set`)**\n",
    "    - Use Case: Storing a collection of unique items.\n",
    "    - Example: `unique_numbers = {1, 2, 3, 4, 5}`\n",
    "    - Explanation: `unique_numbers` is a variable of type `set` containing unique integers. Sets are used to store multiple items in a single variable without duplicates.\n"
   ]
  },
  {
   "cell_type": "markdown",
   "metadata": {},
   "source": [
    "**Integer Data Type**"
   ]
  },
  {
   "cell_type": "code",
   "execution_count": null,
   "metadata": {},
   "outputs": [],
   "source": [
    "integer = 400\n",
    "print(f\"Data : {integer}, Data Type : {type(integer)}\")"
   ]
  },
  {
   "cell_type": "markdown",
   "metadata": {},
   "source": [
    "**Float Data Type**"
   ]
  },
  {
   "cell_type": "code",
   "execution_count": null,
   "metadata": {},
   "outputs": [],
   "source": [
    "folat_data = 10.76\n",
    "print(f\"Data : {folat_data}, Data Type : {type(folat_data)}\")"
   ]
  },
  {
   "cell_type": "markdown",
   "metadata": {},
   "source": [
    "**String Data Type**"
   ]
  },
  {
   "cell_type": "code",
   "execution_count": null,
   "metadata": {},
   "outputs": [],
   "source": [
    "string_Data = \"MD SOLIMAN\"\n",
    "print(f\"Data : {string_Data}, Data Type : {type(string_Data)}\")"
   ]
  },
  {
   "cell_type": "markdown",
   "metadata": {},
   "source": [
    "**Boolean Data Type**"
   ]
  },
  {
   "cell_type": "code",
   "execution_count": null,
   "metadata": {},
   "outputs": [],
   "source": [
    "boolean_Data = True # or False\n",
    "your_account_is_active = False\n",
    "print(f\"Data : {your_account_is_active}, Data Type : {type(boolean_Data)}\")\n"
   ]
  },
  {
   "cell_type": "markdown",
   "metadata": {},
   "source": [
    "**List Data Type**"
   ]
  },
  {
   "cell_type": "code",
   "execution_count": null,
   "metadata": {},
   "outputs": [],
   "source": [
    "list_data = [1,2,34,56,667,8765,3546345,45243]\n",
    "list_data_2 = [\"MD SOLIMAN\", \"MD RAKIB\", \"MD RAKIBUL\", \"MD RAKIBUL ISLAM\"]\n",
    "list_data_3 = [1,2,34,56,667,8765,3546345,45243, \"MD SOLIMAN\", \"MD RAKIB\", \"MD RAKIBUL\", \"MD RAKIBUL ISLAM\", True, False]\n",
    "print(f\"Data : {list_data}, Data Type : {type(list_data)}\")\n",
    "print(f\"Data : {list_data_2}, Data Type : {type(list_data_2)}\")\n",
    "print(f\"Data : {list_data_3}, Data Type : {type(list_data_3)}\")"
   ]
  },
  {
   "cell_type": "markdown",
   "metadata": {},
   "source": [
    "**Dictionary Data Type**"
   ]
  },
  {
   "cell_type": "code",
   "execution_count": null,
   "metadata": {},
   "outputs": [],
   "source": [
    "dictionary_Data = {\"name\":\"Md Soliman\", \"age\": 26, \"account_active\":True}\n",
    "dictionary_Data_2 = {\"name\":\"Md Soliman\", \"age\": 26, \"account_active\":True, \"address\": \"Dhaka, Bangladesh\"}\n",
    "dictionary_Data_3 = {\"data\":{1,2,3,4,5,6,7,8,9,10}, \"name\":\"MD SOLIMAN\", \"person\": dictionary_Data_2}\n",
    "print(f\"Data : {dictionary_Data}, Data Type : {type(dictionary_Data)}\")\n",
    "print(f\"Data : {dictionary_Data_2}, Data Type : {type(dictionary_Data_2)}\")\n",
    "print(f\"Data : {dictionary_Data_3}, Data Type : {type(dictionary_Data_3)}\")\n"
   ]
  },
  {
   "cell_type": "markdown",
   "metadata": {},
   "source": [
    "**Tuple Data Type**"
   ]
  },
  {
   "cell_type": "code",
   "execution_count": null,
   "metadata": {},
   "outputs": [],
   "source": [
    "tuple_Data = (12, 34, 56, 78, 89 , 000,\"Shakil\", \"Soliman\", True, 4334.55, dictionary_Data, list_data)\n",
    "print(f\"Data : {tuple_Data}, Data Type : {type(tuple_Data)}\")"
   ]
  },
  {
   "cell_type": "markdown",
   "metadata": {},
   "source": [
    "**Set Data Type**"
   ]
  },
  {
   "cell_type": "code",
   "execution_count": 41,
   "metadata": {},
   "outputs": [
    {
     "name": "stdout",
     "output_type": "stream",
     "text": [
      "Data : {1, 67, 'Soliman', 7, 456, (12, 34, 56, 78, 89, 0), 234, 4334.55, 6575, 45365, 56, 'Shakil'}, Data Type : <class 'set'>\n"
     ]
    }
   ],
   "source": [
    "set_Data = {1, 234, 56, 6575,67 ,7, 67, 456,45365 , \"Shakil\", \"Soliman\", True, 4334.55, (12, 34, 56, 78, 89 , 000,)}\n",
    "print(f\"Data : {set_Data}, Data Type : {type(set_Data)}\")"
   ]
  }
 ],
 "metadata": {
  "kernelspec": {
   "display_name": "venv",
   "language": "python",
   "name": "python3"
  },
  "language_info": {
   "codemirror_mode": {
    "name": "ipython",
    "version": 3
   },
   "file_extension": ".py",
   "mimetype": "text/x-python",
   "name": "python",
   "nbconvert_exporter": "python",
   "pygments_lexer": "ipython3",
   "version": "3.13.1"
  }
 },
 "nbformat": 4,
 "nbformat_minor": 2
}

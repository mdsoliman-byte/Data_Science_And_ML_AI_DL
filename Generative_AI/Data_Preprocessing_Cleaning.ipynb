{
 "cells": [
  {
   "cell_type": "code",
   "execution_count": 62,
   "id": "aeb66107",
   "metadata": {},
   "outputs": [],
   "source": [
    "import pandas as pd \n",
    "from zipfile import ZipFile\n",
    "#dataset unzip \n",
    "zip_ref = ZipFile(\"D:\\\\Data_Science_And_ML_AI_DL\\\\Sample_Datasets\\\\archive.zip\", 'r')\n",
    "with zip_ref as zf:\n",
    "    zf.extractall(\"D:\\\\Data_Science_And_ML_AI_DL\\\\Sample_Datasets\")\n"
   ]
  },
  {
   "cell_type": "code",
   "execution_count": 63,
   "id": "f982eede",
   "metadata": {},
   "outputs": [
    {
     "name": "stdout",
     "output_type": "stream",
     "text": [
      "                                              review sentiment\n",
      "0  One of the other reviewers has mentioned that ...  positive\n",
      "1  A wonderful little production. <br /><br />The...  positive\n",
      "2  I thought this was a wonderful way to spend ti...  positive\n",
      "3  Basically there's a family where a little boy ...  negative\n",
      "4  Petter Mattei's \"Love in the Time of Money\" is...  positive\n"
     ]
    }
   ],
   "source": [
    "# Read the dataset (replace 'dataset.csv' with the actual file name)\n",
    "dataset_path = \"../Sample_Datasets/IMDB Dataset.csv\"\n",
    "data = pd.read_csv(dataset_path)\n",
    "\n",
    "# Display the first few rows of the dataset\n",
    "print(data.head())"
   ]
  },
  {
   "cell_type": "code",
   "execution_count": 64,
   "id": "62c3fa00",
   "metadata": {},
   "outputs": [
    {
     "data": {
      "text/plain": [
       "(50000, 2)"
      ]
     },
     "execution_count": 64,
     "metadata": {},
     "output_type": "execute_result"
    }
   ],
   "source": [
    "#reed data shape\n",
    "data.shape"
   ]
  },
  {
   "cell_type": "code",
   "execution_count": 65,
   "id": "5bd9a576",
   "metadata": {},
   "outputs": [],
   "source": [
    "data = data.head(100)"
   ]
  },
  {
   "cell_type": "code",
   "execution_count": 66,
   "id": "92a9925c",
   "metadata": {},
   "outputs": [
    {
     "data": {
      "text/plain": [
       "(100, 2)"
      ]
     },
     "execution_count": 66,
     "metadata": {},
     "output_type": "execute_result"
    }
   ],
   "source": [
    "data.shape"
   ]
  },
  {
   "cell_type": "code",
   "execution_count": 67,
   "id": "0f6a6494",
   "metadata": {},
   "outputs": [
    {
     "data": {
      "text/plain": [
       "\"One of the other reviewers has mentioned that after watching just 1 Oz episode you'll be hooked. They are right, as this is exactly what happened with me.<br /><br />The first thing that struck me about Oz was its brutality and unflinching scenes of violence, which set in right from the word GO. Trust me, this is not a show for the faint hearted or timid. This show pulls no punches with regards to drugs, sex or violence. Its is hardcore, in the classic use of the word.<br /><br />It is called OZ as that is the nickname given to the Oswald Maximum Security State Penitentary. It focuses mainly on Emerald City, an experimental section of the prison where all the cells have glass fronts and face inwards, so privacy is not high on the agenda. Em City is home to many..Aryans, Muslims, gangstas, Latinos, Christians, Italians, Irish and more....so scuffles, death stares, dodgy dealings and shady agreements are never far away.<br /><br />I would say the main appeal of the show is due to the fact that it goes where other shows wouldn't dare. Forget pretty pictures painted for mainstream audiences, forget charm, forget romance...OZ doesn't mess around. The first episode I ever saw struck me as so nasty it was surreal, I couldn't say I was ready for it, but as I watched more, I developed a taste for Oz, and got accustomed to the high levels of graphic violence. Not just violence, but injustice (crooked guards who'll be sold out for a nickel, inmates who'll kill on order and get away with it, well mannered, middle class inmates being turned into prison bitches due to their lack of street skills or prison experience) Watching Oz, you may become comfortable with what is uncomfortable viewing....thats if you can get in touch with your darker side.\""
      ]
     },
     "execution_count": 67,
     "metadata": {},
     "output_type": "execute_result"
    }
   ],
   "source": [
    "#check review column\n",
    "data[\"review\"][0]"
   ]
  },
  {
   "cell_type": "markdown",
   "id": "1d25d2a1",
   "metadata": {},
   "source": [
    "convert data fream in Lower Case  "
   ]
  },
  {
   "cell_type": "code",
   "execution_count": 68,
   "id": "85019f58",
   "metadata": {},
   "outputs": [
    {
     "data": {
      "text/plain": [
       "\"one of the other reviewers has mentioned that after watching just 1 oz episode you'll be hooked. they are right, as this is exactly what happened with me.<br /><br />the first thing that struck me about oz was its brutality and unflinching scenes of violence, which set in right from the word go. trust me, this is not a show for the faint hearted or timid. this show pulls no punches with regards to drugs, sex or violence. its is hardcore, in the classic use of the word.<br /><br />it is called oz as that is the nickname given to the oswald maximum security state penitentary. it focuses mainly on emerald city, an experimental section of the prison where all the cells have glass fronts and face inwards, so privacy is not high on the agenda. em city is home to many..aryans, muslims, gangstas, latinos, christians, italians, irish and more....so scuffles, death stares, dodgy dealings and shady agreements are never far away.<br /><br />i would say the main appeal of the show is due to the fact that it goes where other shows wouldn't dare. forget pretty pictures painted for mainstream audiences, forget charm, forget romance...oz doesn't mess around. the first episode i ever saw struck me as so nasty it was surreal, i couldn't say i was ready for it, but as i watched more, i developed a taste for oz, and got accustomed to the high levels of graphic violence. not just violence, but injustice (crooked guards who'll be sold out for a nickel, inmates who'll kill on order and get away with it, well mannered, middle class inmates being turned into prison bitches due to their lack of street skills or prison experience) watching oz, you may become comfortable with what is uncomfortable viewing....thats if you can get in touch with your darker side.\""
      ]
     },
     "execution_count": 68,
     "metadata": {},
     "output_type": "execute_result"
    }
   ],
   "source": [
    "#create lower case data for cleaning review column \n",
    "data[\"review\"] = data[\"review\"].str.lower()\n",
    "#check review column\n",
    "data[\"review\"][0]"
   ]
  },
  {
   "cell_type": "markdown",
   "id": "64df038f",
   "metadata": {},
   "source": [
    "HTML Tage remove form data set"
   ]
  },
  {
   "cell_type": "code",
   "execution_count": 71,
   "id": "315a9359",
   "metadata": {},
   "outputs": [
    {
     "name": "stdout",
     "output_type": "stream",
     "text": [
      "a wonderful little production. the filming technique is very unassuming- very old-time-bbc fashion and gives a comforting, and sometimes discomforting, sense of realism to the entire piece. the actors are extremely well chosen- michael sheen not only \"has got all the polari\" but he has all the voices down pat too! you can truly see the seamless editing guided by the references to williams' diary entries, not only is it well worth the watching but it is a terrificly written and performed piece. a masterful production about one of the great master's of comedy and his life. the realism really comes home with the little things: the fantasy of the guard which, rather than use the traditional 'dream' techniques remains solid then disappears. it plays on our knowledge and our senses, particularly with the scenes concerning orton and halliwell and the sets (particularly of their flat with halliwell's murals decorating every surface) are terribly well done.\n"
     ]
    }
   ],
   "source": [
    "import re\n",
    "def clean_text(text):\n",
    "    # remove html tage \n",
    "    pettern = re.compile(r'<.*?>')\n",
    "    # remove special characters and numbers\n",
    "    return pettern.sub(r'', text)\n",
    "# Ensure 'data' is a DataFrame before applying the function\n",
    "data[\"review\"] = data[\"review\"].apply(clean_text)\n",
    "print(data[\"review\"][1])\n",
    "\n"
   ]
  },
  {
   "cell_type": "markdown",
   "id": "6aacfb99",
   "metadata": {},
   "source": [
    "Remove Url from data set"
   ]
  },
  {
   "cell_type": "code",
   "execution_count": 75,
   "id": "1fa38353",
   "metadata": {},
   "outputs": [
    {
     "name": "stdout",
     "output_type": "stream",
     "text": [
      "probably my all-time favorite movie, a story of selflessness, sacrifice and dedication to a noble cause, but it's not preachy or boring. it just never gets old, despite my having seen it some 15 or more times in the last 25 years. paul lukas' performance brings tears to my eyes, and bette davis, in one of her very few truly sympathetic roles, is a delight. the kids are, as grandma says, more like \"dressed-up midgets\" than children, but that only makes them more fun to watch. and the mother's slow awakening to what's happening in the world and under her own roof is believable and startling. if i had a dozen thumbs, they'd all be \"up\" for this movie.\n"
     ]
    }
   ],
   "source": [
    "def remove_urls(text):\n",
    "    # Remove URLs from the text\n",
    "    pattern = re.compile(r'http\\S+|www\\S+|https\\S+', re.IGNORECASE)\n",
    "    return pattern.sub(r'', text)\n",
    "\n",
    "data[\"review\"] = data[\"review\"].apply(remove_urls)\n",
    "print(data[\"review\"][5])\n"
   ]
  },
  {
   "cell_type": "markdown",
   "id": "e0c57409",
   "metadata": {},
   "source": [
    "### Handling Punctuation in the Dataset\n",
    "\n",
    "To clean the dataset further, we can remove punctuation from the `review` column. This step helps in standardizing the text data and improving the quality of text analysis."
   ]
  },
  {
   "cell_type": "code",
   "execution_count": 82,
   "id": "55d802f7",
   "metadata": {},
   "outputs": [
    {
     "name": "stdout",
     "output_type": "stream",
     "text": [
      "probably my alltime favorite movie a story of selflessness sacrifice and dedication to a noble cause but its not preachy or boring it just never gets old despite my having seen it some 15 or more times in the last 25 years paul lukas performance brings tears to my eyes and bette davis in one of her very few truly sympathetic roles is a delight the kids are as grandma says more like dressedup midgets than children but that only makes them more fun to watch and the mothers slow awakening to whats happening in the world and under her own roof is believable and startling if i had a dozen thumbs theyd all be up for this movie\n"
     ]
    }
   ],
   "source": [
    "# display all punctuation \n",
    "import string \n",
    "exclude = string.punctuation\n",
    "# def remove_punctuation(text):\n",
    "#     # Remove punctuation from the text\n",
    "#     for char in exclude:\n",
    "#         text = text.replace(char, \"\")\n",
    "#     return text\n",
    "def remove_punctuation(text):\n",
    "    return text.translate(str.maketrans(\"\",\"\", exclude))\n",
    "data[\"review\"] = data[\"review\"].apply(remove_punctuation)\n",
    "print(data[\"review\"][5])"
   ]
  },
  {
   "cell_type": "markdown",
   "id": "cb11225d",
   "metadata": {},
   "source": [
    "### Chat Convercation Handel "
   ]
  },
  {
   "cell_type": "code",
   "execution_count": 107,
   "id": "a5e6d5ad",
   "metadata": {},
   "outputs": [
    {
     "name": "stdout",
     "output_type": "stream",
     "text": [
      "probably alltime favorite movie story selflessness sacrifice dedication noble cause preachy boring never gets old despite seen 15 times last 25 years paul lukas performance brings tears eyes bette davis one truly sympathetic roles delight kids grandma says like dressedup midgets children makes fun watch mothers slow awakening whats happening world roof believable startling dozen thumbs theyd movie\n"
     ]
    }
   ],
   "source": [
    "chat_words = {\n",
    "    'AFAIK':'As Far As I Know',\n",
    "    'AFK':'Away From Keyboard',\n",
    "    'ASAP':'As Soon As Possible',\n",
    "    'BFF':'Best Friends Forever',\n",
    "    'BRB':'Be Right Back',\n",
    "    \"FYI\": \"For Your Information\",\n",
    "    \"ASAP\": \"As Soon As Possible\",\n",
    "    \"BRB\": \"Be Right Back\",\n",
    "    \"BTW\": \"By The Way\",\n",
    "    \"OMG\": \"Oh My God\",\n",
    "    \"IMO\": \"In My Opinion\",\n",
    "    \"LOL\": \"Laugh Out Loud\",\n",
    "    \"TTYL\": \"Talk To You Later\",\n",
    "    \"GTG\": \"Got To Go\",\n",
    "    \"TTYT\": \"Talk To You Tomorrow\",\n",
    "    \"IDK\": \"I Don't Know\",\n",
    "    \"TMI\": \"Too Much Information\",\n",
    "    \"IMHO\": \"In My Humble Opinion\",\n",
    "    \"ICYMI\": \"In Case You Missed It\",\n",
    "    \"AFAIK\": \"As Far As I Know\",\n",
    "    \"BTW\": \"By The Way\",\n",
    "    \"FAQ\": \"Frequently Asked Questions\",\n",
    "    \"TGIF\": \"Thank God It's Friday\",\n",
    "    \"FYA\": \"For Your Action\",\n",
    "    \"ICYMI\": \"In Case You Missed It\",\n",
    "}\n",
    "def chat_convercation(text):\n",
    "    next_text = []\n",
    "    for w in text.split():\n",
    "        if w.upper() in chat_words:\n",
    "            next_text.append(chat_words[w.upper()])\n",
    "        else:\n",
    "            next_text.append(w)\n",
    "    return \" \".join(next_text)\n",
    "chat_convercation(\"I am going to the mall ASAP, ICYMI\")\n",
    "data[\"review\"] = data[\"review\"].apply(chat_convercation)\n",
    "print(data[\"review\"][5])"
   ]
  },
  {
   "cell_type": "markdown",
   "id": "74ece783",
   "metadata": {},
   "source": [
    "### Incorrect Text Handeling "
   ]
  },
  {
   "cell_type": "code",
   "execution_count": 94,
   "id": "fb7f6a9e",
   "metadata": {},
   "outputs": [],
   "source": [
    "from textblob import TextBlob\n",
    "incorrect_text = 'ceertain conditionas duriing seveal ggenerations aree moodified in the saame maner.'\n",
    "text_blob = TextBlob(incorrect_text).correct()\n",
    "# data[\"review\"] = data[\"review\"].apply(lambda x: str(TextBlob(x).correct()))\n",
    "# print(data[\"review\"][5])\n"
   ]
  },
  {
   "cell_type": "markdown",
   "id": "5aa9a584",
   "metadata": {},
   "source": [
    "### Stopwords Removing"
   ]
  },
  {
   "cell_type": "code",
   "execution_count": 109,
   "id": "1f8057c7",
   "metadata": {},
   "outputs": [],
   "source": [
    "# def remove_stopwords(text):\n",
    "#     new_text = []\n",
    "\n",
    "#     for word in text.split():\n",
    "#         if word in stopwords.words('english'):\n",
    "#             new_text.append('')\n",
    "#         else:\n",
    "#             new_text.append(word)\n",
    "#     x = new_text[:]\n",
    "#     new_text.clear()\n",
    "#     return \" \".join(x)"
   ]
  },
  {
   "cell_type": "code",
   "execution_count": 106,
   "id": "bc8ff86c",
   "metadata": {},
   "outputs": [
    {
     "name": "stderr",
     "output_type": "stream",
     "text": [
      "[nltk_data] Downloading package stopwords to\n",
      "[nltk_data]     C:\\Users\\conta\\AppData\\Roaming\\nltk_data...\n",
      "[nltk_data]   Package stopwords is already up-to-date!\n"
     ]
    },
    {
     "name": "stdout",
     "output_type": "stream",
     "text": [
      "probably alltime favorite movie story selflessness sacrifice dedication noble cause preachy boring never gets old despite seen 15 times last 25 years paul lukas performance brings tears eyes bette davis one truly sympathetic roles delight kids grandma says like dressedup midgets children makes fun watch mothers slow awakening whats happening world roof believable startling dozen thumbs theyd movie\n"
     ]
    }
   ],
   "source": [
    "import nltk\n",
    "from nltk.corpus import stopwords\n",
    "nltk.download('stopwords')\n",
    "stopwords.words('english')\n",
    "# def remove_stopwords(text):\n",
    "def remove_stopwords(text):\n",
    "    # Remove stopwords from the text\n",
    "    return \" \".join([word for word in text.split() if word not in stopwords.words('english')])\n",
    "# Apply the function to the 'review' column \n",
    "\n",
    "data[\"review\"] = data[\"review\"].apply(remove_stopwords)\n",
    "# Check the cleaned review\n",
    "print(data[\"review\"][5])"
   ]
  },
  {
   "cell_type": "markdown",
   "id": "df2eb399",
   "metadata": {},
   "source": [
    "### Remove Emoji from data "
   ]
  },
  {
   "cell_type": "code",
   "execution_count": 115,
   "id": "7cd9be13",
   "metadata": {},
   "outputs": [
    {
     "name": "stdout",
     "output_type": "stream",
     "text": [
      "probably alltime favorite movie story selflessness sacrifice dedication noble cause preachy boring never gets old despite seen 15 times last 25 years paul lukas performance brings tears eyes bette davis one truly sympathetic roles delight kids grandma says like dressedup midgets children makes fun watch mothers slow awakening whats happening world roof believable startling dozen thumbs theyd movie\n"
     ]
    }
   ],
   "source": [
    "def remove_emojis(text):\n",
    "    # Remove emojis from the text\n",
    "    pattern = re.compile(\"[\\U0001F600-\\U0001F64F]\")\n",
    "    return pattern.sub(r'', text)\n",
    "# Apply the function to the 'review' \n",
    "data[\"review\"] = data[\"review\"].apply(remove_emojis)\n",
    "# Check the cleaned review\n",
    "print(data[\"review\"][5])"
   ]
  },
  {
   "cell_type": "code",
   "execution_count": 116,
   "id": "de389d42",
   "metadata": {},
   "outputs": [
    {
     "name": "stdout",
     "output_type": "stream",
     "text": [
      "Python is :fire:\n"
     ]
    }
   ],
   "source": [
    "import emoji\n",
    "print(emoji.demojize('Python is 🔥'))"
   ]
  },
  {
   "cell_type": "markdown",
   "id": "8264c87f",
   "metadata": {},
   "source": [
    "### Tokenization"
   ]
  },
  {
   "cell_type": "code",
   "execution_count": null,
   "id": "145feaa5",
   "metadata": {},
   "outputs": [
    {
     "name": "stdout",
     "output_type": "stream",
     "text": [
      "['Hay i love python programming language', ' I am learning it from scratch', ' I am very happy to learn it', ' I am learning it from scratch', ' I am very happy to learn it', '']\n"
     ]
    }
   ],
   "source": [
    "sentence  = \"Hay i love python programming language. I am learning it from scratch. I am very happy to learn it. I am learning it from scratch. I am very happy to learn it.\"\n",
    "sentence = sentence.split(\".\")\n",
    "print(sentence)"
   ]
  },
  {
   "cell_type": "code",
   "execution_count": 126,
   "id": "fb880b07",
   "metadata": {},
   "outputs": [
    {
     "name": "stderr",
     "output_type": "stream",
     "text": [
      "[nltk_data] Downloading package punkt to\n",
      "[nltk_data]     C:\\Users\\conta\\AppData\\Roaming\\nltk_data...\n",
      "[nltk_data]   Package punkt is already up-to-date!\n",
      "[nltk_data] Downloading package punkt_tab to\n",
      "[nltk_data]     C:\\Users\\conta\\AppData\\Roaming\\nltk_data...\n",
      "[nltk_data]   Package punkt_tab is already up-to-date!\n"
     ]
    },
    {
     "data": {
      "text/plain": [
       "['I am learning it from scratch.', 'I am very happy to learn it.']"
      ]
     },
     "execution_count": 126,
     "metadata": {},
     "output_type": "execute_result"
    }
   ],
   "source": [
    "import nltk\n",
    "from nltk.tokenize import sent_tokenize, word_tokenize\n",
    "nltk.download('punkt')\n",
    "nltk.download('punkt_tab')\n",
    "word_tokenize(\"I am learning it from scratch. I am very happy to learn it.\")\n",
    "sent_tokenize(\"I am learning it from scratch. I am very happy to learn it.\")"
   ]
  },
  {
   "cell_type": "markdown",
   "id": "c911bed1",
   "metadata": {},
   "source": [
    "### Stemmer"
   ]
  },
  {
   "cell_type": "code",
   "execution_count": null,
   "id": "1aaa572c",
   "metadata": {},
   "outputs": [
    {
     "name": "stdout",
     "output_type": "stream",
     "text": [
      "probabl alltim favorit movi stori selfless sacrific dedic nobl caus preachi bore never get old despit seen 15 time last 25 year paul luka perform bring tear eye bett davi one truli sympathet role delight kid grandma say like dressedup midget children make fun watch mother slow awaken what happen world roof believ startl dozen thumb theyd movi\n"
     ]
    }
   ],
   "source": [
    "from nltk.stem.porter import PorterStemmer\n",
    "ps = PorterStemmer()\n",
    "def strem_words(text):\n",
    "    # Perform stemming on the text\n",
    "    return \" \".join([ps.stem(word) for word in text.split()])\n",
    "# Apply the function to the 'review' column\n",
    "# sample = \"walk walks walking walked\"\n",
    "# strem_words(sample)\n",
    "# data[\"review\"] = data[\"review\"].apply(strem_words)\n",
    "# # Check the cleaned review\n",
    "# print(data[\"review\"][5])"
   ]
  }
 ],
 "metadata": {
  "kernelspec": {
   "display_name": "venv",
   "language": "python",
   "name": "python3"
  },
  "language_info": {
   "codemirror_mode": {
    "name": "ipython",
    "version": 3
   },
   "file_extension": ".py",
   "mimetype": "text/x-python",
   "name": "python",
   "nbconvert_exporter": "python",
   "pygments_lexer": "ipython3",
   "version": "3.13.1"
  }
 },
 "nbformat": 4,
 "nbformat_minor": 5
}

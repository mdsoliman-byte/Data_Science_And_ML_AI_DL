{
 "cells": [
  {
   "cell_type": "code",
   "execution_count": 7,
   "id": "aeb66107",
   "metadata": {},
   "outputs": [],
   "source": [
    "import pandas as pd \n",
    "from zipfile import ZipFile\n",
    "#dataset unzip \n",
    "zip_ref = ZipFile(\"D:\\\\Data_Science_And_ML_AI_DL\\\\Sample_Datasets\\\\archive.zip\", 'r')\n",
    "\n",
    "\n",
    "with zip_ref as zf:\n",
    "    zf.extractall(\"D:\\\\Data_Science_And_ML_AI_DL\\\\Sample_Datasets\")\n"
   ]
  },
  {
   "cell_type": "code",
   "execution_count": 10,
   "id": "f982eede",
   "metadata": {},
   "outputs": [
    {
     "name": "stdout",
     "output_type": "stream",
     "text": [
      "                                              review sentiment\n",
      "0  One of the other reviewers has mentioned that ...  positive\n",
      "1  A wonderful little production. <br /><br />The...  positive\n",
      "2  I thought this was a wonderful way to spend ti...  positive\n",
      "3  Basically there's a family where a little boy ...  negative\n",
      "4  Petter Mattei's \"Love in the Time of Money\" is...  positive\n"
     ]
    }
   ],
   "source": [
    "# Read the dataset (replace 'dataset.csv' with the actual file name)\n",
    "dataset_path = \"../Sample_Datasets/IMDB_Dataset.csv\"\n",
    "data = pd.read_csv(dataset_path)\n",
    "\n",
    "# Display the first few rows of the dataset\n",
    "print(data.head())"
   ]
  }
 ],
 "metadata": {
  "kernelspec": {
   "display_name": "venv",
   "language": "python",
   "name": "python3"
  },
  "language_info": {
   "codemirror_mode": {
    "name": "ipython",
    "version": 3
   },
   "file_extension": ".py",
   "mimetype": "text/x-python",
   "name": "python",
   "nbconvert_exporter": "python",
   "pygments_lexer": "ipython3",
   "version": "3.13.1"
  }
 },
 "nbformat": 4,
 "nbformat_minor": 5
}

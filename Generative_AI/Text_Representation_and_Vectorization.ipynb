{
 "cells": [
  {
   "cell_type": "markdown",
   "id": "0f542ab4",
   "metadata": {},
   "source": [
    "# Text_Representation_&_Vectorization"
   ]
  }
 ],
 "metadata": {
  "language_info": {
   "name": "python"
  }
 },
 "nbformat": 4,
 "nbformat_minor": 5
}
